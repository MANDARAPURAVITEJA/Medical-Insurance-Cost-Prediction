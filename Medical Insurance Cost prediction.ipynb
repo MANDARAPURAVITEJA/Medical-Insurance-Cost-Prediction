{
 "cells": [
  {
   "cell_type": "code",
   "execution_count": 20,
   "id": "cf0878a9",
   "metadata": {},
   "outputs": [],
   "source": [
    "#Importing Libraries.\n",
    "import numpy as np\n",
    "import pandas as pd\n",
    "import matplotlib.pyplot as plt\n",
    "import seaborn as sns\n",
    "from sklearn.model_selection import train_test_split\n",
    "from sklearn.compose import ColumnTransformer\n",
    "from sklearn.preprocessing import OneHotEncoder\n",
    "from sklearn.preprocessing import StandardScaler\n",
    "from sklearn.linear_model import LinearRegression"
   ]
  },
  {
   "cell_type": "code",
   "execution_count": 2,
   "id": "91dd9981",
   "metadata": {},
   "outputs": [
    {
     "data": {
      "text/html": [
       "<div>\n",
       "<style scoped>\n",
       "    .dataframe tbody tr th:only-of-type {\n",
       "        vertical-align: middle;\n",
       "    }\n",
       "\n",
       "    .dataframe tbody tr th {\n",
       "        vertical-align: top;\n",
       "    }\n",
       "\n",
       "    .dataframe thead th {\n",
       "        text-align: right;\n",
       "    }\n",
       "</style>\n",
       "<table border=\"1\" class=\"dataframe\">\n",
       "  <thead>\n",
       "    <tr style=\"text-align: right;\">\n",
       "      <th></th>\n",
       "      <th>age</th>\n",
       "      <th>sex</th>\n",
       "      <th>bmi</th>\n",
       "      <th>children</th>\n",
       "      <th>smoker</th>\n",
       "      <th>region</th>\n",
       "      <th>charges</th>\n",
       "    </tr>\n",
       "  </thead>\n",
       "  <tbody>\n",
       "    <tr>\n",
       "      <th>0</th>\n",
       "      <td>19</td>\n",
       "      <td>female</td>\n",
       "      <td>27.900</td>\n",
       "      <td>0</td>\n",
       "      <td>yes</td>\n",
       "      <td>southwest</td>\n",
       "      <td>16884.92400</td>\n",
       "    </tr>\n",
       "    <tr>\n",
       "      <th>1</th>\n",
       "      <td>18</td>\n",
       "      <td>male</td>\n",
       "      <td>33.770</td>\n",
       "      <td>1</td>\n",
       "      <td>no</td>\n",
       "      <td>southeast</td>\n",
       "      <td>1725.55230</td>\n",
       "    </tr>\n",
       "    <tr>\n",
       "      <th>2</th>\n",
       "      <td>28</td>\n",
       "      <td>male</td>\n",
       "      <td>33.000</td>\n",
       "      <td>3</td>\n",
       "      <td>no</td>\n",
       "      <td>southeast</td>\n",
       "      <td>4449.46200</td>\n",
       "    </tr>\n",
       "    <tr>\n",
       "      <th>3</th>\n",
       "      <td>33</td>\n",
       "      <td>male</td>\n",
       "      <td>22.705</td>\n",
       "      <td>0</td>\n",
       "      <td>no</td>\n",
       "      <td>northwest</td>\n",
       "      <td>21984.47061</td>\n",
       "    </tr>\n",
       "    <tr>\n",
       "      <th>4</th>\n",
       "      <td>32</td>\n",
       "      <td>male</td>\n",
       "      <td>28.880</td>\n",
       "      <td>0</td>\n",
       "      <td>no</td>\n",
       "      <td>northwest</td>\n",
       "      <td>3866.85520</td>\n",
       "    </tr>\n",
       "  </tbody>\n",
       "</table>\n",
       "</div>"
      ],
      "text/plain": [
       "   age     sex     bmi  children smoker     region      charges\n",
       "0   19  female  27.900         0    yes  southwest  16884.92400\n",
       "1   18    male  33.770         1     no  southeast   1725.55230\n",
       "2   28    male  33.000         3     no  southeast   4449.46200\n",
       "3   33    male  22.705         0     no  northwest  21984.47061\n",
       "4   32    male  28.880         0     no  northwest   3866.85520"
      ]
     },
     "execution_count": 2,
     "metadata": {},
     "output_type": "execute_result"
    }
   ],
   "source": [
    "#importing the dataset\n",
    "dataset=pd.read_csv(\"C:/Users/ravit/OneDrive/Desktop/Jupyter notebooks/insurance.csv\")\n",
    "dataset.head()"
   ]
  },
  {
   "cell_type": "code",
   "execution_count": 3,
   "id": "39fa9fa7",
   "metadata": {},
   "outputs": [
    {
     "name": "stdout",
     "output_type": "stream",
     "text": [
      "<class 'pandas.core.frame.DataFrame'>\n",
      "RangeIndex: 1338 entries, 0 to 1337\n",
      "Data columns (total 7 columns):\n",
      " #   Column    Non-Null Count  Dtype  \n",
      "---  ------    --------------  -----  \n",
      " 0   age       1338 non-null   int64  \n",
      " 1   sex       1338 non-null   object \n",
      " 2   bmi       1338 non-null   float64\n",
      " 3   children  1338 non-null   int64  \n",
      " 4   smoker    1338 non-null   object \n",
      " 5   region    1338 non-null   object \n",
      " 6   charges   1338 non-null   float64\n",
      "dtypes: float64(2), int64(2), object(3)\n",
      "memory usage: 73.3+ KB\n"
     ]
    }
   ],
   "source": [
    "dataset.info()"
   ]
  },
  {
   "cell_type": "code",
   "execution_count": 4,
   "id": "b409c081",
   "metadata": {},
   "outputs": [
    {
     "data": {
      "text/plain": [
       "age         0\n",
       "sex         0\n",
       "bmi         0\n",
       "children    0\n",
       "smoker      0\n",
       "region      0\n",
       "charges     0\n",
       "dtype: int64"
      ]
     },
     "execution_count": 4,
     "metadata": {},
     "output_type": "execute_result"
    }
   ],
   "source": [
    "#checking for missing values\n",
    "dataset.isnull().sum()"
   ]
  },
  {
   "cell_type": "code",
   "execution_count": 5,
   "id": "cecc46e6",
   "metadata": {},
   "outputs": [
    {
     "data": {
      "text/html": [
       "<div>\n",
       "<style scoped>\n",
       "    .dataframe tbody tr th:only-of-type {\n",
       "        vertical-align: middle;\n",
       "    }\n",
       "\n",
       "    .dataframe tbody tr th {\n",
       "        vertical-align: top;\n",
       "    }\n",
       "\n",
       "    .dataframe thead th {\n",
       "        text-align: right;\n",
       "    }\n",
       "</style>\n",
       "<table border=\"1\" class=\"dataframe\">\n",
       "  <thead>\n",
       "    <tr style=\"text-align: right;\">\n",
       "      <th></th>\n",
       "      <th>age</th>\n",
       "      <th>bmi</th>\n",
       "      <th>children</th>\n",
       "      <th>charges</th>\n",
       "    </tr>\n",
       "  </thead>\n",
       "  <tbody>\n",
       "    <tr>\n",
       "      <th>count</th>\n",
       "      <td>1338.000000</td>\n",
       "      <td>1338.000000</td>\n",
       "      <td>1338.000000</td>\n",
       "      <td>1338.000000</td>\n",
       "    </tr>\n",
       "    <tr>\n",
       "      <th>mean</th>\n",
       "      <td>39.207025</td>\n",
       "      <td>30.663397</td>\n",
       "      <td>1.094918</td>\n",
       "      <td>13270.422265</td>\n",
       "    </tr>\n",
       "    <tr>\n",
       "      <th>std</th>\n",
       "      <td>14.049960</td>\n",
       "      <td>6.098187</td>\n",
       "      <td>1.205493</td>\n",
       "      <td>12110.011237</td>\n",
       "    </tr>\n",
       "    <tr>\n",
       "      <th>min</th>\n",
       "      <td>18.000000</td>\n",
       "      <td>15.960000</td>\n",
       "      <td>0.000000</td>\n",
       "      <td>1121.873900</td>\n",
       "    </tr>\n",
       "    <tr>\n",
       "      <th>25%</th>\n",
       "      <td>27.000000</td>\n",
       "      <td>26.296250</td>\n",
       "      <td>0.000000</td>\n",
       "      <td>4740.287150</td>\n",
       "    </tr>\n",
       "    <tr>\n",
       "      <th>50%</th>\n",
       "      <td>39.000000</td>\n",
       "      <td>30.400000</td>\n",
       "      <td>1.000000</td>\n",
       "      <td>9382.033000</td>\n",
       "    </tr>\n",
       "    <tr>\n",
       "      <th>75%</th>\n",
       "      <td>51.000000</td>\n",
       "      <td>34.693750</td>\n",
       "      <td>2.000000</td>\n",
       "      <td>16639.912515</td>\n",
       "    </tr>\n",
       "    <tr>\n",
       "      <th>max</th>\n",
       "      <td>64.000000</td>\n",
       "      <td>53.130000</td>\n",
       "      <td>5.000000</td>\n",
       "      <td>63770.428010</td>\n",
       "    </tr>\n",
       "  </tbody>\n",
       "</table>\n",
       "</div>"
      ],
      "text/plain": [
       "               age          bmi     children       charges\n",
       "count  1338.000000  1338.000000  1338.000000   1338.000000\n",
       "mean     39.207025    30.663397     1.094918  13270.422265\n",
       "std      14.049960     6.098187     1.205493  12110.011237\n",
       "min      18.000000    15.960000     0.000000   1121.873900\n",
       "25%      27.000000    26.296250     0.000000   4740.287150\n",
       "50%      39.000000    30.400000     1.000000   9382.033000\n",
       "75%      51.000000    34.693750     2.000000  16639.912515\n",
       "max      64.000000    53.130000     5.000000  63770.428010"
      ]
     },
     "execution_count": 5,
     "metadata": {},
     "output_type": "execute_result"
    }
   ],
   "source": [
    "dataset.describe()"
   ]
  },
  {
   "cell_type": "markdown",
   "id": "3342532f",
   "metadata": {},
   "source": [
    "### EDA"
   ]
  },
  {
   "cell_type": "code",
   "execution_count": 6,
   "id": "513d2ba5",
   "metadata": {},
   "outputs": [
    {
     "data": {
      "text/html": [
       "<div>\n",
       "<style scoped>\n",
       "    .dataframe tbody tr th:only-of-type {\n",
       "        vertical-align: middle;\n",
       "    }\n",
       "\n",
       "    .dataframe tbody tr th {\n",
       "        vertical-align: top;\n",
       "    }\n",
       "\n",
       "    .dataframe thead th {\n",
       "        text-align: right;\n",
       "    }\n",
       "</style>\n",
       "<table border=\"1\" class=\"dataframe\">\n",
       "  <thead>\n",
       "    <tr style=\"text-align: right;\">\n",
       "      <th></th>\n",
       "      <th>age</th>\n",
       "      <th>bmi</th>\n",
       "      <th>children</th>\n",
       "      <th>charges</th>\n",
       "    </tr>\n",
       "  </thead>\n",
       "  <tbody>\n",
       "    <tr>\n",
       "      <th>age</th>\n",
       "      <td>1.000000</td>\n",
       "      <td>0.109272</td>\n",
       "      <td>0.042469</td>\n",
       "      <td>0.299008</td>\n",
       "    </tr>\n",
       "    <tr>\n",
       "      <th>bmi</th>\n",
       "      <td>0.109272</td>\n",
       "      <td>1.000000</td>\n",
       "      <td>0.012759</td>\n",
       "      <td>0.198341</td>\n",
       "    </tr>\n",
       "    <tr>\n",
       "      <th>children</th>\n",
       "      <td>0.042469</td>\n",
       "      <td>0.012759</td>\n",
       "      <td>1.000000</td>\n",
       "      <td>0.067998</td>\n",
       "    </tr>\n",
       "    <tr>\n",
       "      <th>charges</th>\n",
       "      <td>0.299008</td>\n",
       "      <td>0.198341</td>\n",
       "      <td>0.067998</td>\n",
       "      <td>1.000000</td>\n",
       "    </tr>\n",
       "  </tbody>\n",
       "</table>\n",
       "</div>"
      ],
      "text/plain": [
       "               age       bmi  children   charges\n",
       "age       1.000000  0.109272  0.042469  0.299008\n",
       "bmi       0.109272  1.000000  0.012759  0.198341\n",
       "children  0.042469  0.012759  1.000000  0.067998\n",
       "charges   0.299008  0.198341  0.067998  1.000000"
      ]
     },
     "execution_count": 6,
     "metadata": {},
     "output_type": "execute_result"
    }
   ],
   "source": [
    "#Age\n",
    "dataset.corr()"
   ]
  },
  {
   "cell_type": "code",
   "execution_count": 7,
   "id": "ca08943f",
   "metadata": {},
   "outputs": [
    {
     "data": {
      "text/plain": [
       "Text(0, 0.5, 'charges')"
      ]
     },
     "execution_count": 7,
     "metadata": {},
     "output_type": "execute_result"
    },
    {
     "data": {
      "image/png": "[encoded data removed]",
      "text/plain": [
       "<Figure size 432x288 with 1 Axes>"
      ]
     },
     "metadata": {
      "needs_background": "light"
     },
     "output_type": "display_data"
    }
   ],
   "source": [
    "plt.scatter(dataset['age'],dataset['charges'])\n",
    "plt.xlabel('age')\n",
    "plt.ylabel('charges')"
   ]
  },
  {
   "cell_type": "code",
   "execution_count": 8,
   "id": "2fa373ad",
   "metadata": {},
   "outputs": [
    {
     "data": {
      "text/plain": [
       "<AxesSubplot:xlabel='bmi', ylabel='charges'>"
      ]
     },
     "execution_count": 8,
     "metadata": {},
     "output_type": "execute_result"
    },
    {
     "data": {
      "image/png": "[encoded data removed]",
      "text/plain": [
       "<Figure size 432x288 with 1 Axes>"
      ]
     },
     "metadata": {
      "needs_background": "light"
     },
     "output_type": "display_data"
    }
   ],
   "source": [
    "sns.regplot(data=dataset,x='bmi',y='charges')"
   ]
  },
  {
   "cell_type": "code",
   "execution_count": 9,
   "id": "1912c42b",
   "metadata": {},
   "outputs": [],
   "source": [
    "#splitting the dataset into Train and test set\n",
    "X=dataset.iloc[:,:-1].values\n",
    "y=dataset.iloc[:,-1].values"
   ]
  },
  {
   "cell_type": "code",
   "execution_count": 10,
   "id": "ce057d88",
   "metadata": {},
   "outputs": [
    {
     "name": "stdout",
     "output_type": "stream",
     "text": [
      "[[19 'female' 27.9 0 'yes' 'southwest']\n",
      " [18 'male' 33.77 1 'no' 'southeast']\n",
      " [28 'male' 33.0 3 'no' 'southeast']\n",
      " ...\n",
      " [18 'female' 36.85 0 'no' 'southeast']\n",
      " [21 'female' 25.8 0 'no' 'southwest']\n",
      " [61 'female' 29.07 0 'yes' 'northwest']]\n"
     ]
    }
   ],
   "source": [
    "print(X)"
   ]
  },
  {
   "cell_type": "code",
   "execution_count": 11,
   "id": "6c249596",
   "metadata": {},
   "outputs": [
    {
     "data": {
      "text/plain": [
       "array([16884.924 ,  1725.5523,  4449.462 , ...,  1629.8335,  2007.945 ,\n",
       "       29141.3603])"
      ]
     },
     "execution_count": 11,
     "metadata": {},
     "output_type": "execute_result"
    }
   ],
   "source": [
    "y"
   ]
  },
  {
   "cell_type": "code",
   "execution_count": 12,
   "id": "58c12a81",
   "metadata": {},
   "outputs": [],
   "source": [
    "#Encoding Categorical variables\n",
    "ct=ColumnTransformer(transformers=[('encoder',OneHotEncoder(),[1,4,5])],remainder='passthrough')\n",
    "X=np.array(ct.fit_transform(X))"
   ]
  },
  {
   "cell_type": "code",
   "execution_count": 13,
   "id": "dd64fe92",
   "metadata": {},
   "outputs": [],
   "source": [
    "X_train,X_test,y_train,y_test=train_test_split(X,y,test_size=0.3,random_state=10)"
   ]
  },
  {
   "cell_type": "code",
   "execution_count": 14,
   "id": "276e42fd",
   "metadata": {},
   "outputs": [
    {
     "data": {
      "text/plain": [
       "array([[1.0, 0.0, 1.0, ..., 21, 16.815, 1],\n",
       "       [0.0, 1.0, 1.0, ..., 28, 38.06, 0],\n",
       "       [0.0, 1.0, 1.0, ..., 57, 43.7, 1],\n",
       "       ...,\n",
       "       [1.0, 0.0, 1.0, ..., 51, 25.8, 1],\n",
       "       [0.0, 1.0, 1.0, ..., 42, 34.1, 0],\n",
       "       [0.0, 1.0, 1.0, ..., 44, 34.32, 1]], dtype=object)"
      ]
     },
     "execution_count": 14,
     "metadata": {},
     "output_type": "execute_result"
    }
   ],
   "source": [
    "X_train"
   ]
  },
  {
   "cell_type": "code",
   "execution_count": 15,
   "id": "01ab8902",
   "metadata": {},
   "outputs": [
    {
     "data": {
      "text/plain": [
       "array([ 3167.45585,  2689.4954 , 11576.13   , 16586.49771,  6746.7425 ,\n",
       "        5976.8311 ,  5649.715  , 15161.5344 ,  2007.945  , 19214.70553,\n",
       "       16455.70785, 10594.50155, 27117.99378,  4296.2712 ,  7151.092  ,\n",
       "        8410.04685, 22331.5668 , 37165.1638 , 17468.9839 ,  2494.022  ,\n",
       "        6356.2707 , 11305.93455, 12235.8392 , 14256.1928 , 13822.803  ,\n",
       "        7173.35995,  9140.951  ,  1711.0268 ,  5926.846  , 32108.66282,\n",
       "       17942.106  , 43896.3763 ,  8671.19125,  6112.35295, 15019.76005,\n",
       "       11365.952  ,  2709.24395, 43254.41795,  1263.249  ,  3757.8448 ,\n",
       "       20420.60465,  2302.3    , 11658.11505, 11394.06555,  1967.0227 ,\n",
       "        3353.4703 , 10269.46   , 18963.17192, 31620.00106, 30259.99556,\n",
       "        6571.544  ,  1632.56445,  2755.02095,  5934.3798 , 14319.031  ,\n",
       "       19964.7463 ,  6849.026  ,  2498.4144 ,  1631.6683 ,  3766.8838 ,\n",
       "        9625.92   ,  3309.7926 , 37079.372  , 15359.1045 , 36124.5737 ,\n",
       "        2842.76075,  1622.1885 , 46599.1084 ,  6948.7008 ,  4500.33925,\n",
       "        2128.43105,  9095.06825, 19673.33573, 48824.45   ,  8688.85885,\n",
       "        3645.0894 ,  2480.9791 ,  2154.361  , 33307.5508 , 12643.3778 ,\n",
       "       27375.90478,  8556.907  , 37270.1512 ,  6593.5083 ,  9101.798  ,\n",
       "       13019.16105, 28868.6639 ,  1621.3402 ,  6571.02435, 34828.654  ,\n",
       "        4260.744  ,  8765.249  ,  4040.55825,  9875.6804 ,  4337.7352 ,\n",
       "       11356.6609 ,  9290.1395 , 34439.8559 ,  8891.1395 ,  7162.0122 ,\n",
       "        8026.6666 , 35160.13457, 13555.0049 ,  4719.73655,  7222.78625,\n",
       "        2534.39375,  1719.4363 ,  1635.73365,  1725.5523 ,  1824.2854 ,\n",
       "        8342.90875, 12829.4551 , 12979.358  ,  4391.652  , 19933.458  ,\n",
       "        7623.518  ,  7640.3092 , 28101.33305,  8442.667  ,  2721.3208 ,\n",
       "        2803.69785, 12044.342  ,  1131.5066 , 11743.9341 ,  5974.3847 ,\n",
       "        2731.9122 , 26140.3603 ,  4243.59005,  4846.92015, 28287.89766,\n",
       "       20630.28351,  2741.948  , 29186.48236,  1261.859  ,  6877.9801 ,\n",
       "       14283.4594 ,  4402.233  , 37742.5757 , 13217.0945 , 11163.568  ,\n",
       "       13451.122  , 26467.09737, 58571.07448, 13204.28565,  1639.5631 ,\n",
       "        2473.3341 , 48970.2476 ,  9910.35985,  3044.2133 , 60021.39897,\n",
       "       41034.2214 ,  9877.6077 ,  8125.7845 ,  2020.5523 , 25382.297  ,\n",
       "       34303.1672 ,  7742.1098 , 10702.6424 ,  8516.829  , 27322.73386,\n",
       "       37701.8768 , 26125.67477, 30184.9367 , 10107.2206 ,  3070.8087 ,\n",
       "        5152.134  ,  4746.344  ,  5910.944  ,  4415.1588 , 14043.4767 ,\n",
       "       16085.1275 ,  8428.0693 , 39727.614  ,  8283.6807 , 14210.53595,\n",
       "       10355.641  , 12265.5069 ,  6455.86265, 11488.31695,  4134.08245,\n",
       "        9563.029  , 18804.7524 , 11856.4115 , 11264.541  ,  1631.8212 ,\n",
       "       38792.6856 , 42560.4304 ,  2150.469  ,  7050.642  , 42112.2356 ,\n",
       "       41949.2441 ,  4462.7218 ,  5484.4673 , 20234.85475,  1877.9294 ,\n",
       "       11085.5868 ,  8219.2039 , 13126.67745,  5227.98875,  3268.84665,\n",
       "       12479.70895,  6250.435  , 28923.13692,  2136.88225, 13937.6665 ,\n",
       "       36580.28216,  6652.5288 ,  3947.4131 , 19444.2658 , 12741.16745,\n",
       "        1832.094  , 13770.0979 ,  6113.23105,  6198.7518 , 38511.6283 ,\n",
       "       14382.70905, 16450.8947 ,  7133.9025 , 37829.7242 ,  6406.4107 ,\n",
       "        6933.24225,  2137.6536 , 12404.8791 , 10096.97   , 26109.32905,\n",
       "        3906.127  , 44423.803  , 12124.9924 ,  1253.936  , 34166.273  ,\n",
       "       45702.02235, 13470.86   ,  2632.992  , 38709.176  ,  9182.17   ,\n",
       "        1826.843  ,  7243.8136 , 12430.95335, 10118.424  ,  4827.90495,\n",
       "        5312.16985,  3213.62205,  4779.6023 ,  4931.647  , 23082.95533,\n",
       "        4433.9159 ,  7985.815  , 33750.2918 , 48675.5177 , 33475.81715,\n",
       "        9872.701  , 44260.7499 , 10601.412  ,  2117.33885, 11070.535  ,\n",
       "       33900.653  ,  2639.0429 ,  5428.7277 , 11837.16   ,  9301.89355,\n",
       "       35491.64   , 47291.055  ,  9566.9909 , 14410.9321 , 20878.78443,\n",
       "       42983.4585 , 10796.35025, 11884.04858, 11244.3769 ,  3279.86855,\n",
       "        6796.86325, 27037.9141 , 10848.1343 , 10560.4917 , 44202.6536 ,\n",
       "        9288.0267 ,  9620.3307 ,  5458.04645, 36149.4835 , 11381.3254 ,\n",
       "       21595.38229, 21880.82   ,  1977.815  , 36837.467  ,  6640.54485,\n",
       "        4347.02335, 36219.40545, 26926.5144 ,  4435.0942 ,  6128.79745,\n",
       "        3597.596  ,  1704.5681 , 16776.30405,  2727.3951 ,  7348.142  ,\n",
       "        1242.816  , 45863.205  , 24671.66334,  6186.127  , 19539.243  ,\n",
       "        2566.4707 , 49577.6624 , 39836.519  ,  6402.29135,  8827.2099 ,\n",
       "       17904.52705,  6272.4772 ,  6500.2359 ,  2257.47525,  2155.6815 ,\n",
       "        2362.22905,  1815.8759 ,  1875.344  ,  9724.53   , 11538.421  ,\n",
       "        2219.4451 ,  2156.7518 , 42969.8527 ,  1708.92575,  9722.7695 ,\n",
       "       15820.699  , 11842.442  ,  8582.3023 , 33907.548  , 38998.546  ,\n",
       "        7345.7266 ,  4463.2051 , 15828.82173,  2867.1196 ,  5438.7491 ,\n",
       "        4564.19145, 46718.16325, 12592.5345 , 23563.01618,  6185.3208 ,\n",
       "       10976.24575, 27941.28758,  4189.1131 , 41097.16175, 36197.699  ,\n",
       "       15817.9857 , 26018.95052,  3857.75925,  3490.5491 ,  6238.298  ,\n",
       "        2396.0959 ,  7419.4779 ,  8413.46305,  1880.07   ,  7050.0213 ,\n",
       "        4518.82625, 11552.904  , 10982.5013 ,  4673.3922 , 23807.2406 ,\n",
       "       20149.3229 , 12949.1554 ,  4753.6368 , 27000.98473, 24180.9335 ,\n",
       "        7731.4271 ,  7749.1564 ,  9644.2525 , 42211.1382 ,  6940.90985,\n",
       "       24869.8368 , 13457.9608 , 12224.35085,  8551.347  , 22478.6    ,\n",
       "       12925.886  ,  5012.471  ,  9414.92   , 14988.432  ,  4618.0799 ,\n",
       "        2730.10785, 19749.38338,  3556.9223 , 39241.442  , 17043.3414 ,\n",
       "        8277.523  ,  4830.63   ,  7518.02535, 10214.636  , 18767.7377 ,\n",
       "        1242.26   ,  4536.259  ,  8965.79575, 34617.84065, 16796.41194,\n",
       "       11848.141  ,  8932.084  , 20009.63365,  1759.338  , 45008.9555 ,\n",
       "       37465.34375, 46661.4424 , 11881.9696 ,  5972.378  ,  1252.407  ,\n",
       "        3875.7341 ,  1743.214  ,  3981.9768 , 13635.6379 , 10381.4787 ,\n",
       "        9048.0273 ,  3704.3545 ,  5209.57885,  7265.7025 , 47462.894  ,\n",
       "       11674.13   ,  1737.376  ,  2775.19215,  3693.428  ,  5028.1466 ,\n",
       "        1639.5631 ,  9058.7303 , 10226.2842 ,  4529.477  ,  1629.8335 ,\n",
       "       12815.44495, 24915.04626, 14692.66935,  7986.47525,  8017.06115,\n",
       "       12105.32   ,  3554.203  , 10461.9794 ,  5615.369  ,  4795.6568 ,\n",
       "       19515.5416 ,  2103.08   ,  4349.462  , 12523.6048 , 10072.05505,\n",
       "        1136.3994 , 21677.28345,  1704.70015, 21774.32215, 13063.883  ,\n",
       "        5116.5004 , 10825.2537 ,  3353.284  ,  4149.736  , 13405.3903 ,\n",
       "       10977.2063 , 14349.8544 , 11741.726  , 44641.1974 ,  4762.329  ,\n",
       "        7371.772  ,  3176.8159 ,  2850.68375, 40273.6455 , 17560.37975,\n",
       "        4433.3877 ,  1526.312  ,  1702.4553 ,  6373.55735, 10942.13205,\n",
       "        8547.6913 ,  8604.48365,  3176.2877 , 11150.78   ,  4527.18295,\n",
       "       12233.828  ,  9850.432  ,  7196.867  , 11729.6795 , 21223.6758 ,\n",
       "       10435.06525,  5272.1758 ,  2250.8352 , 33732.6867 , 14358.36437,\n",
       "        8233.0975 , 17496.306  ,  2789.0574 , 14901.5167 ,  5124.1887 ,\n",
       "        8027.968  , 13143.33665, 43578.9394 , 10807.4863 ,  8522.003  ,\n",
       "        5400.9805 ,  9447.3824 , 10601.63225,  4237.12655, 14001.2867 ,\n",
       "        1615.7667 , 11840.77505, 40182.246  , 15230.32405,  4877.98105,\n",
       "       28340.18885,  2699.56835,  9748.9106 ,  8539.671  , 47403.88   ,\n",
       "       20167.33603, 17352.6803 ,  4058.1161 , 16297.846  ,  8596.8278 ,\n",
       "        2497.0383 , 38282.7495 , 36898.73308, 14474.675  , 13224.693  ,\n",
       "       42124.5153 , 14571.8908 , 11253.421  ,  1534.3045 , 18246.4955 ,\n",
       "       32548.3405 ,  3877.30425, 11842.62375, 38126.2465 , 16577.7795 ,\n",
       "       24915.22085,  8569.8618 ,  7804.1605 , 10736.87075,  8968.33   ,\n",
       "        9991.03765, 21195.818  , 11658.37915,  8603.8234 , 13919.8229 ,\n",
       "        4915.05985,  2217.6012 ,  1634.5734 ,  4934.705  , 32787.45859,\n",
       "       12269.68865,  2217.46915,  5373.36425,  8601.3293 , 12142.5786 ,\n",
       "        7077.1894 , 20709.02034,  1633.0444 ,  2130.6759 ,  7537.1639 ,\n",
       "       14426.07385,  1261.442  ,  5757.41345,  2211.13075,  8782.469  ,\n",
       "        6748.5912 , 11833.7823 , 10928.849  ,  5709.1644 ,  2203.73595,\n",
       "        5354.07465, 23065.4207 ,  6875.961  , 22412.6485 ,  2055.3249 ,\n",
       "       12950.0712 , 40003.33225, 12363.547  ,  4032.2407 ,  5855.9025 ,\n",
       "       17626.23951, 11033.6617 ,  3594.17085, 11396.9002 , 41999.52   ,\n",
       "        9391.346  ,  3577.999  ,  4504.6624 , 40720.55105,  3392.3652 ,\n",
       "        9264.797  , 22192.43711, 10450.552  ,  2416.955  ,  5989.52365,\n",
       "       20177.67113, 21984.47061,  8835.26495, 36307.7983 , 18648.4217 ,\n",
       "       39722.7462 , 12485.8009 ,  5327.40025,  6496.886  , 10579.711  ,\n",
       "        6686.4313 , 10577.087  ,  1980.07   , 11455.28   ,  2221.56445,\n",
       "        5397.6167 ,  1986.9334 , 17179.522  ,  3761.292  ,  8733.22925,\n",
       "        6082.405  ,  9855.1314 ,  6117.4945 ,  9866.30485, 13844.7972 ,\n",
       "        7935.29115,  2913.569  , 18328.2381 ,  1682.597  , 39611.7577 ,\n",
       "        2201.0971 ,  8823.279  , 30063.58055, 39047.285  , 24535.69855,\n",
       "        3659.346  ,  1163.4627 ,  4718.20355,  2020.177  , 24059.68019,\n",
       "        3206.49135,  7201.70085, 11881.358  , 46130.5265 , 23288.9284 ,\n",
       "        8520.026  ,  8023.13545, 42760.5022 , 21348.706  , 35147.52848,\n",
       "       14451.83515, 12096.6512 , 34254.05335,  4005.4225 , 14001.1338 ,\n",
       "        9715.841  , 12890.05765, 48673.5588 ,  7228.21565, 19719.6947 ,\n",
       "       39774.2763 ,  2974.126  ,  6548.19505,  1964.78   ,  3861.20965,\n",
       "        2200.83085, 20781.48892, 19521.9682 , 13981.85035,  8515.7587 ,\n",
       "       14235.072  , 41919.097  , 13143.86485, 25992.82104, 12638.195  ,\n",
       "       10959.6947 , 42111.6647 ,  7729.64575, 24227.33724, 10106.13425,\n",
       "        1842.519  , 16138.76205,  9283.562  , 43943.8761 ,  3484.331  ,\n",
       "       48885.13561,  1731.677  , 14394.39815, 44501.3982 ,  2404.7338 ,\n",
       "        3591.48   , 10806.839  , 11944.59435,  2464.6188 , 46151.1245 ,\n",
       "        4894.7533 ,  9193.8385 , 14119.62   ,  4133.64165, 11945.1327 ,\n",
       "       20745.9891 , 25081.76784,  2710.82855, 11657.7189 , 13470.8044 ,\n",
       "        9800.8882 , 23244.7902 , 19350.3689 ,  4449.462  , 13880.949  ,\n",
       "       16115.3045 , 33471.97189,  2304.0022 , 47305.305  ,  2138.0707 ,\n",
       "        3056.3881 , 28468.91901,  2395.17155, 13887.204  , 21771.3423 ,\n",
       "        8269.044  , 12222.8983 , 48549.17835,  8605.3615 ,  5325.651  ,\n",
       "       20984.0936 , 10407.08585, 12032.326  , 10422.91665, 12648.7034 ,\n",
       "        9282.4806 , 47896.79135, 13393.756  ,  1981.5819 ,  9411.005  ,\n",
       "        9541.69555,  2902.9065 , 21978.6769 ,  3161.454  ,  9704.66805,\n",
       "        8444.474  , 11187.6567 , 20277.80751,  3366.6697 , 11436.73815,\n",
       "        4747.0529 ,  1917.3184 , 13041.921  , 18806.14547,  2457.502  ,\n",
       "        7337.748  ,  4922.9159 ,  1727.54   ,  3756.6216 ,  7954.517  ,\n",
       "       25333.33284, 11362.755  , 43813.8661 ,  5969.723  ,  1769.53165,\n",
       "        2438.0552 , 13844.506  ,  5261.46945,  9634.538  , 10923.9332 ,\n",
       "        6610.1097 , 34838.873  , 24393.6224 ,  3410.324  , 12957.118  ,\n",
       "        3260.199  , 28476.73499,  8116.26885,  8978.1851 ,  4661.28635,\n",
       "       19107.7796 , 12574.049  ,  2866.091  ,  8334.5896 , 16884.924  ,\n",
       "       13747.87235, 47496.49445,  4357.04365,  5836.5204 ,  5472.449  ,\n",
       "       21797.0004 ,  8823.98575, 19496.71917, 13112.6048 ,  2690.1138 ,\n",
       "        4667.60765, 10602.385  ,  4428.88785, 11512.405  , 11830.6072 ,\n",
       "        3393.35635,  2719.27975, 46200.9851 , 12982.8747 , 18955.22017,\n",
       "       10564.8845 ,  8534.6718 ,  2254.7967 ,  4571.41305, 11326.71487,\n",
       "        6551.7501 , 11520.09985,  2045.68525, 48517.56315, 21659.9301 ,\n",
       "        4438.2634 , 36950.2567 ,  2527.81865,  4687.797  ,  5125.2157 ,\n",
       "        7448.40395, 30942.1918 ,  8334.45755,  3972.9247 ,  6196.448  ,\n",
       "       16657.71745, 27724.28875,  6289.7549 , 39725.51805, 11743.299  ,\n",
       "        7624.63   ,  2205.9808 ,  6653.7886 , 14455.64405, 47928.03   ,\n",
       "        1712.227  ,  4889.9995 ,  2585.269  , 12629.1656 , 40419.0191 ,\n",
       "       25678.77845, 35069.37452,  7682.67   ,  1909.52745,  2643.2685 ,\n",
       "       10704.47   ,  8988.15875,  4320.41085, 24603.04837,  5693.4305 ,\n",
       "       12730.9996 , 11286.5387 , 13831.1152 ,  8062.764  , 39125.33225,\n",
       "       15006.57945,  8871.1517 ,  3943.5954 , 32734.1863 ,  4670.64   ,\n",
       "        8798.593  ,  8083.9198 , 11345.519  ,  9432.9253 ,  7441.053  ,\n",
       "        2026.9741 ,  7045.499  ,  1632.03625, 37607.5277 , 13462.52   ,\n",
       "        2102.2647 ,  2104.1134 ,  6414.178  , 11363.2832 ,  4562.8421 ,\n",
       "        4719.52405,  6067.12675,  5257.50795,  6666.243  ,  1984.4533 ,\n",
       "        3935.1799 , 23401.30575,  6600.361  ,  1627.28245,  8124.4084 ,\n",
       "        3062.50825,  1727.785  ,  3180.5101 , 43753.33705, 30166.61817,\n",
       "       15555.18875,  4234.927  , 18259.216  , 12129.61415,  5148.5526 ,\n",
       "       11737.84884,  5594.8455 ,  3292.52985,  2457.21115, 35595.5898 ,\n",
       "       24667.419  , 40974.1649 , 24520.264  , 10043.249  ,  3172.018  ,\n",
       "       36910.60803,  6799.458  ,  3866.8552 , 10141.1362 ,  6079.6715 ,\n",
       "        1744.465  , 19040.876  , 14313.8463 ,  4266.1658 , 12146.971  ,\n",
       "        3989.841  ,  4561.1885 , 10085.846  ,  1837.237  , 47269.854  ,\n",
       "       23045.56616, 12981.3457 ,  3925.7582 ,  3558.62025,  5245.2269 ,\n",
       "        4185.0979 , 11272.33139,  5729.0053 , 11879.10405, 16069.08475,\n",
       "       63770.42801,  8280.6227 , 11082.5772 ,  4837.5823 ,  8527.532  ,\n",
       "        4074.4537 ,  5031.26955, 11090.7178 ,  1532.4697 , 34672.1472 ,\n",
       "        2322.6218 ,  6858.4796 , 13224.05705, 52590.82939,  8059.6791 ,\n",
       "        7526.70645,  7152.6714 ,  8944.1151 , 12029.2867 , 22218.1149 ,\n",
       "        3046.062  ,  1748.774  , 43921.1837 ,  1674.6323 ,  4137.5227 ,\n",
       "        9447.25035,  7650.77375,  2261.5688 ,  9861.025  ,  5979.731  ,\n",
       "        7147.4728 ])"
      ]
     },
     "execution_count": 15,
     "metadata": {},
     "output_type": "execute_result"
    }
   ],
   "source": [
    "y_train"
   ]
  },
  {
   "cell_type": "code",
   "execution_count": 17,
   "id": "fe3b0cae",
   "metadata": {},
   "outputs": [],
   "source": [
    "sc=StandardScaler()\n",
    "X_train=sc.fit_transform(X_train)"
   ]
  },
  {
   "cell_type": "code",
   "execution_count": 18,
   "id": "23988ac1",
   "metadata": {},
   "outputs": [],
   "source": [
    "X_test=sc.transform(X_test)"
   ]
  },
  {
   "cell_type": "code",
   "execution_count": 19,
   "id": "a6b9988a",
   "metadata": {},
   "outputs": [
    {
     "data": {
      "text/plain": [
       "array([[ 1.00428267, -1.00428267,  0.50966434, ..., -1.281397  ,\n",
       "        -2.25446088, -0.05768565],\n",
       "       [-0.99573559,  0.99573559,  0.50966434, ..., -0.78892204,\n",
       "         1.16015992, -0.88835894],\n",
       "       [-0.99573559,  0.99573559,  0.50966434, ...,  1.25133137,\n",
       "         2.06665375, -0.05768565],\n",
       "       ...,\n",
       "       [ 1.00428267, -1.00428267,  0.50966434, ...,  0.82920998,\n",
       "        -0.81033907, -0.05768565],\n",
       "       [-0.99573559,  0.99573559,  0.50966434, ...,  0.19602788,\n",
       "         0.52368553, -0.88835894],\n",
       "       [-0.99573559,  0.99573559,  0.50966434, ...,  0.33673502,\n",
       "         0.55904522, -0.05768565]])"
      ]
     },
     "execution_count": 19,
     "metadata": {},
     "output_type": "execute_result"
    }
   ],
   "source": [
    "X_train"
   ]
  },
  {
   "cell_type": "code",
   "execution_count": 22,
   "id": "92303283",
   "metadata": {},
   "outputs": [
    {
     "data": {
      "text/plain": [
       "LinearRegression()"
      ]
     },
     "execution_count": 22,
     "metadata": {},
     "output_type": "execute_result"
    }
   ],
   "source": [
    "#Training the model\n",
    "model=LinearRegression()\n",
    "model.fit(X_train,y_train)"
   ]
  },
  {
   "cell_type": "code",
   "execution_count": 24,
   "id": "7f5a24fb",
   "metadata": {},
   "outputs": [],
   "source": [
    "predict=model.predict(X_test)"
   ]
  },
  {
   "cell_type": "code",
   "execution_count": 25,
   "id": "592a8d7d",
   "metadata": {},
   "outputs": [],
   "source": [
    "from sklearn.metrics import accuracy_score"
   ]
  },
  {
   "cell_type": "code",
   "execution_count": 29,
   "id": "32fb0c41",
   "metadata": {},
   "outputs": [
    {
     "data": {
      "text/plain": [
       "array([ 8.44214570e+03,  6.01814570e+03,  1.54341457e+04,  1.11141457e+04,\n",
       "        3.84214570e+03,  9.46614570e+03,  9.73814570e+03,  2.59141457e+04,\n",
       "        7.47414570e+03,  3.10501457e+04,  2.18614570e+03,  3.84214570e+03,\n",
       "        7.42614570e+03,  1.12261457e+04,  1.27941457e+04,  1.13941457e+04,\n",
       "        5.25014570e+03,  1.86981457e+04,  1.06101457e+04,  3.13541457e+04,\n",
       "        3.45861457e+04,  4.32214570e+03,  8.66145701e+02,  7.13014570e+03,\n",
       "        4.08214570e+03,  1.36981457e+04,  1.20581457e+04,  1.07781457e+04,\n",
       "        6.26614570e+03,  3.15381457e+04, -1.80585430e+03,  3.45621457e+04,\n",
       "        9.16214570e+03,  7.59414570e+03,  8.00214570e+03,  1.17621457e+04,\n",
       "        1.40181457e+04,  1.27861457e+04,  9.73014570e+03,  8.73014570e+03,\n",
       "        1.57221457e+04,  1.04741457e+04,  5.63414570e+03,  1.12981457e+04,\n",
       "        5.22614570e+03,  7.07414570e+03,  6.71414570e+03,  3.48261457e+04,\n",
       "        1.12021457e+04,  1.09141457e+04,  3.29221457e+04,  5.09814570e+03,\n",
       "        1.05381457e+04,  1.46661457e+04,  1.11461457e+04,  1.33541457e+04,\n",
       "        1.20581457e+04,  7.75414570e+03,  7.78614570e+03,  3.52581457e+04,\n",
       "        5.78145701e+02,  3.38581457e+04,  3.76741457e+04,  1.35414570e+03,\n",
       "        2.87461457e+04,  9.68214570e+03,  6.37814570e+03,  9.86614570e+03,\n",
       "        8.13814570e+03,  7.75414570e+03,  7.07414570e+03,  2.01814570e+03,\n",
       "        8.44214570e+03,  1.02181457e+04,  8.64214570e+03,  1.27781457e+04,\n",
       "        6.12214570e+03,  1.05461457e+04, -7.33854299e+02,  1.32741457e+04,\n",
       "        1.19621457e+04,  1.28341457e+04,  2.68101457e+04,  2.05014570e+03,\n",
       "        3.43941457e+04,  4.09814570e+03,  2.53814570e+03,  3.12214570e+03,\n",
       "        9.46614570e+03,  9.45014570e+03,  3.22901457e+04,  3.31461457e+04,\n",
       "        9.65814570e+03,  3.83061457e+04,  1.37141457e+04,  6.31414570e+03,\n",
       "        7.51414570e+03,  1.41221457e+04,  6.76214570e+03,  1.06661457e+04,\n",
       "        8.50614570e+03,  2.17814570e+03,  2.73014570e+03,  7.19414570e+03,\n",
       "        1.04901457e+04,  9.86614570e+03,  3.15141457e+04,  3.04421457e+04,\n",
       "        3.05941457e+04,  4.33814570e+03,  1.07781457e+04,  7.98614570e+03,\n",
       "        6.33814570e+03,  2.66021457e+04,  3.02981457e+04,  3.23461457e+04,\n",
       "        5.21814570e+03,  3.55701457e+04,  6.55414570e+03,  3.53014570e+03,\n",
       "        3.46021457e+04,  1.16501457e+04,  7.24214570e+03,  4.77814570e+03,\n",
       "        3.95781457e+04,  5.12214570e+03,  1.41141457e+04,  9.21814570e+03,\n",
       "        6.80214570e+03,  1.20901457e+04,  1.18741457e+04,  3.62821457e+04,\n",
       "        2.74661457e+04,  3.54581457e+04,  1.26021457e+04,  3.07461457e+04,\n",
       "        1.30181457e+04,  1.27941457e+04,  2.92421457e+04,  5.33814570e+03,\n",
       "        8.61814570e+03,  3.23941457e+04,  1.41621457e+04,  4.20214570e+03,\n",
       "        4.61814570e+03,  3.02741457e+04,  1.37141457e+04,  9.29814570e+03,\n",
       "        1.21141457e+04,  3.70614570e+03,  7.15414570e+03,  4.47414570e+03,\n",
       "        1.84214570e+03,  3.90181457e+04,  1.41701457e+04,  3.91414570e+03,\n",
       "        1.43861457e+04, -9.49854299e+02,  1.57701457e+04,  3.66181457e+04,\n",
       "        1.13941457e+04,  6.79414570e+03,  7.61014570e+03,  1.21381457e+04,\n",
       "        4.64214570e+03,  4.05141457e+04,  1.02101457e+04,  9.99414570e+03,\n",
       "        1.77014570e+03,  1.08501457e+04,  1.23461457e+04,  1.02341457e+04,\n",
       "        6.95414570e+03,  1.20501457e+04,  2.97221457e+04,  8.57014570e+03,\n",
       "        4.18145701e+02,  1.20101457e+04,  9.73014570e+03,  1.55941457e+04,\n",
       "        3.94181457e+04,  1.11061457e+04,  5.91414570e+03,  5.86614570e+03,\n",
       "        2.78421457e+04,  7.17814570e+03,  3.61541457e+04,  9.65014570e+03,\n",
       "        3.07781457e+04,  1.38614570e+03,  8.42614570e+03,  9.40214570e+03,\n",
       "        7.62614570e+03,  9.80214570e+03,  1.37541457e+04,  1.19381457e+04,\n",
       "        2.46821457e+04,  3.11414570e+03,  1.06261457e+04,  7.19414570e+03,\n",
       "        6.14614570e+03,  2.14570085e+00,  1.58341457e+04,  1.40181457e+04,\n",
       "        2.73014570e+03,  3.74021457e+04,  2.83141457e+04,  1.57701457e+04,\n",
       "        3.28021457e+04,  4.59414570e+03,  9.77814570e+03,  3.36101457e+04,\n",
       "        8.94614570e+03,  8.97014570e+03,  3.26181457e+04,  5.97814570e+03,\n",
       "        9.38614570e+03,  6.82145701e+02,  1.49381457e+04,  1.32181457e+04,\n",
       "        7.33814570e+03,  7.32214570e+03,  4.50145701e+02,  1.44341457e+04,\n",
       "       -1.81854299e+02,  2.62981457e+04,  1.43141457e+04,  4.23414570e+03,\n",
       "        8.41814570e+03,  2.93701457e+04,  5.96214570e+03,  2.56021457e+04,\n",
       "        7.70614570e+03,  3.05861457e+04,  1.13701457e+04,  4.99414570e+03,\n",
       "        1.08181457e+04,  3.78021457e+04, -1.78185430e+03,  1.46661457e+04,\n",
       "        1.08101457e+04,  2.86181457e+04,  1.12341457e+04,  3.31221457e+04,\n",
       "        1.16821457e+04,  3.38614570e+03,  1.30341457e+04,  8.06614570e+03,\n",
       "        1.31221457e+04,  1.94145701e+02,  9.82614570e+03,  1.25781457e+04,\n",
       "        3.40421457e+04,  4.91414570e+03,  1.03141457e+04,  1.20261457e+04,\n",
       "        9.75414570e+03,  5.48214570e+03,  1.62145701e+02,  1.60661457e+04,\n",
       "        3.22614570e+03,  3.52421457e+04,  8.71414570e+03,  3.71221457e+04,\n",
       "        7.90614570e+03,  2.85814570e+03,  1.62901457e+04,  1.10581457e+04,\n",
       "        4.48214570e+03,  1.03941457e+04,  2.17814570e+03,  2.79414570e+03,\n",
       "        1.05061457e+04,  1.14901457e+04,  1.14501457e+04,  3.33014570e+03,\n",
       "        2.84181457e+04,  7.54145701e+02,  9.25814570e+03,  3.57061457e+04,\n",
       "       -2.68585430e+03,  2.72214570e+03,  1.36261457e+04,  9.51414570e+03,\n",
       "        3.27141457e+04,  1.30614570e+03,  4.16214570e+03,  1.00101457e+04,\n",
       "        2.93781457e+04,  2.85014570e+03,  7.57814570e+03,  5.14614570e+03,\n",
       "        7.99414570e+03,  7.01814570e+03,  2.49381457e+04,  2.59414570e+03,\n",
       "        2.98581457e+04,  1.28821457e+04,  6.75414570e+03,  1.49861457e+04,\n",
       "        3.66821457e+04,  9.01814570e+03,  2.14570085e+00,  2.75941457e+04,\n",
       "        1.13701457e+04,  1.12581457e+04,  1.68901457e+04,  1.11141457e+04,\n",
       "        1.20421457e+04,  1.07621457e+04,  7.94614570e+03,  8.80214570e+03,\n",
       "        7.45814570e+03,  1.58614570e+03,  1.34581457e+04,  3.78341457e+04,\n",
       "        3.96901457e+04,  9.10614570e+03,  1.09541457e+04,  1.40901457e+04,\n",
       "        1.10181457e+04,  5.93814570e+03,  1.04741457e+04,  9.61014570e+03,\n",
       "        7.78145701e+02,  1.02341457e+04,  4.06614570e+03,  3.79301457e+04,\n",
       "        8.48214570e+03,  2.92214570e+03,  3.38101457e+04,  1.41461457e+04,\n",
       "        1.12341457e+04,  2.90581457e+04,  5.72214570e+03,  1.11541457e+04,\n",
       "        1.07861457e+04,  3.37814570e+03,  3.19701457e+04,  3.49861457e+04,\n",
       "        1.53941457e+04,  1.66614570e+03,  1.02021457e+04,  1.28661457e+04,\n",
       "        9.01014570e+03,  1.53621457e+04,  1.19461457e+04,  8.37014570e+03,\n",
       "        9.66614570e+03,  3.39781457e+04,  3.03301457e+04,  7.26614570e+03,\n",
       "       -2.22185430e+03,  1.85814570e+03,  1.74101457e+04,  8.26614570e+03,\n",
       "        3.09141457e+04,  7.97814570e+03,  3.23414570e+03,  5.57814570e+03,\n",
       "        1.47141457e+04,  1.04101457e+04,  4.15414570e+03,  6.05814570e+03,\n",
       "        5.94614570e+03,  2.09014570e+03,  2.55061457e+04,  1.46261457e+04,\n",
       "        3.95414570e+03,  5.73014570e+03,  9.64214570e+03,  8.29014570e+03,\n",
       "        2.88981457e+04,  6.22614570e+03,  4.98614570e+03,  1.24501457e+04,\n",
       "        7.49814570e+03,  7.67414570e+03,  8.97014570e+03,  6.05814570e+03,\n",
       "        5.54614570e+03,  1.11301457e+04,  2.96101457e+04,  9.09014570e+03,\n",
       "        5.15414570e+03,  1.12341457e+04,  1.61014570e+03,  1.22501457e+04,\n",
       "        3.14101457e+04,  1.80214570e+03,  1.33461457e+04,  1.12901457e+04,\n",
       "        1.10661457e+04,  6.04214570e+03,  1.02021457e+04,  1.74181457e+04,\n",
       "        1.04901457e+04,  3.46021457e+04,  7.90614570e+03,  3.27621457e+04,\n",
       "        3.05014570e+03,  1.06261457e+04])"
      ]
     },
     "execution_count": 29,
     "metadata": {},
     "output_type": "execute_result"
    }
   ],
   "source": [
    "predict"
   ]
  },
  {
   "cell_type": "code",
   "execution_count": 30,
   "id": "c8f2e230",
   "metadata": {},
   "outputs": [
    {
     "data": {
      "text/plain": [
       "<matplotlib.collections.PathCollection at 0x253f644ca90>"
      ]
     },
     "execution_count": 30,
     "metadata": {},
     "output_type": "execute_result"
    },
    {
     "data": {
      "image/png": "[encoded data removed]",
      "text/plain": [
       "<Figure size 432x288 with 1 Axes>"
      ]
     },
     "metadata": {
      "needs_background": "light"
     },
     "output_type": "display_data"
    }
   ],
   "source": [
    "plt.scatter(y_test,predict)"
   ]
  },
  {
   "cell_type": "code",
   "execution_count": 31,
   "id": "263c0e8b",
   "metadata": {},
   "outputs": [],
   "source": [
    "##residuals\n",
    "residuals=y_test-predict"
   ]
  },
  {
   "cell_type": "code",
   "execution_count": 32,
   "id": "b93970d2",
   "metadata": {},
   "outputs": [
    {
     "data": {
      "text/plain": [
       "array([-1.16064010e+03, -7.50327551e+02, -3.08697370e+03,  1.33989456e+04,\n",
       "       -1.05681001e+02, -2.10797005e+03,  5.07201991e+01, -8.82887810e+03,\n",
       "        7.36954499e+02, -1.12520912e+04,  8.90949799e+02, -4.56746551e+02,\n",
       "       -5.88777001e+02, -2.68785725e+03,  1.35981146e+04,  1.61806295e+03,\n",
       "       -2.02302460e+03, -3.52807670e+03,  4.63030299e+02, -1.05805180e+04,\n",
       "        4.97034880e+03, -2.18724420e+03,  1.33204415e+03, -5.75075351e+02,\n",
       "        2.58295199e+02, -1.07596620e+03, -4.31780870e+03,  1.69720560e+03,\n",
       "       -2.27821970e+03, -1.04559857e+04,  3.04741930e+03,  5.54174430e+03,\n",
       "        8.76715767e+03,  7.08389949e+02, -4.53073610e+03, -5.91522810e+03,\n",
       "       -6.66045901e+02, -3.64158070e+03,  1.59264296e+04, -1.00329170e+03,\n",
       "       -1.83417720e+03,  1.98104972e+04, -3.67780101e+02,  1.49906392e+03,\n",
       "       -4.07934910e+03, -2.74235009e+01,  1.91339540e+03,  4.77126150e+03,\n",
       "        1.12179030e+03,  5.39875799e+02,  7.98205380e+03, -1.92653080e+03,\n",
       "       -3.09222770e+03, -1.05877695e+03,  1.61998964e+04, -7.96540401e+02,\n",
       "       -1.26080950e+03, -2.26588370e+03, -1.50391070e+03,  5.68313970e+03,\n",
       "        1.12985570e+03, -1.05515987e+04, -8.72367650e+03,  3.10853899e+02,\n",
       "       -1.13843796e+04, -2.33706170e+03,  1.17797303e+04, -2.60942260e+03,\n",
       "       -5.11152701e+02,  1.84824343e+04,  2.50902499e+02, -2.97792001e+02,\n",
       "       -1.28859180e+03, -3.23144870e+03, -4.09506901e+02, -2.40723315e+03,\n",
       "       -1.23310890e+03, -4.07213270e+03,  2.35928805e+03, -3.15913685e+03,\n",
       "       -1.69770360e+03, -3.44798440e+03, -8.58669450e+03,  1.51174320e+03,\n",
       "       -1.05064830e+04, -7.05168901e+02, -1.40220500e+03, -1.24165870e+03,\n",
       "       -3.83568785e+03,  7.06637499e+02, -1.01461137e+04,  2.94467274e+04,\n",
       "       -1.57572651e+02,  7.80736530e+03, -3.23586701e+02, -2.23764870e+03,\n",
       "       -1.12476785e+03, -4.24207770e+03, -2.01107570e+03,  1.96375100e+03,\n",
       "       -1.84145975e+03,  1.91667010e+04,  1.96655985e+04, -2.72752430e+03,\n",
       "       -1.24065050e+03, -1.16268970e+03,  6.73144757e+03,  5.74695600e+03,\n",
       "       -1.15708857e+04,  7.41950299e+02, -8.20424101e+02, -1.67238670e+03,\n",
       "       -2.18711700e+03, -8.85363950e+03,  6.83575250e+03, -1.08736669e+04,\n",
       "       -8.67631301e+02,  6.09145630e+03,  4.31361249e+02,  1.97113288e+04,\n",
       "        5.38128025e+03, -2.47601005e+03, -5.31953801e+02, -3.14418390e+03,\n",
       "        7.47738640e+03, -2.22265635e+03, -1.88253210e+03, -4.07988900e+03,\n",
       "       -2.15538670e+03,  8.23846699e+02,  1.26023328e+04, -8.47342060e+03,\n",
       "       -9.43217780e+03, -1.01486567e+04, -6.24115210e+03, -1.04492823e+04,\n",
       "       -2.41759740e+03, -3.21025240e+03,  5.56432200e+03,  3.70721299e+02,\n",
       "       -2.16030230e+03, -1.11347678e+04, -1.23335460e+03, -1.29805770e+03,\n",
       "       -1.08044270e+03,  5.81107330e+03, -3.00050170e+03,  1.19340366e+04,\n",
       "       -3.65632770e+03,  1.51325580e+04, -3.65353340e+03,  2.27889230e+03,\n",
       "       -5.85846701e+02,  6.69206215e+03, -2.88103645e+03, -2.77270060e+03,\n",
       "       -1.74155670e+03,  2.07172820e+03, -3.27485485e+03, -9.39970845e+03,\n",
       "        1.73545775e+03, -4.95686380e+03, -1.29819370e+03,  1.95682299e+02,\n",
       "        1.35760157e+04,  7.65921530e+03, -3.42879150e+03, -5.99996790e+03,\n",
       "       -1.48263001e+02,  3.15271949e+02, -2.38208570e+03, -2.79264470e+03,\n",
       "       -1.71338070e+03, -7.36375700e+03, -1.07496507e+04, -2.17654225e+03,\n",
       "        3.31447940e+03,  7.13443082e+03, -2.09642510e+03, -4.50052280e+03,\n",
       "        7.47111550e+03,  8.24979549e+02, -1.45974305e+03, -4.71674980e+03,\n",
       "        6.93746930e+03, -3.90098470e+03, -8.62023280e+03,  1.30918430e+03,\n",
       "       -1.11833361e+04,  1.09759030e+03,  1.63926730e+03, -1.88987870e+03,\n",
       "        1.18162078e+04, -2.59265390e+03, -2.45480270e+03, -1.70664580e+03,\n",
       "       -9.97040190e+03,  1.79226395e+03,  2.78889240e+03, -1.07057690e+03,\n",
       "       -6.77139101e+02,  1.70347880e+03, -3.18793870e+03, -7.58252200e+03,\n",
       "        8.75248915e+03,  6.99826070e+03, -1.06510015e+04, -1.17951365e+03,\n",
       "        5.90885430e+03, -2.42741370e+03, -1.66146570e+03,  5.13620940e+03,\n",
       "       -3.36184000e+03, -2.19418470e+03,  2.25172564e+04,  1.29253457e+04,\n",
       "       -3.46604160e+03,  2.69676430e+03, -1.50788070e+03, -1.86491810e+03,\n",
       "       -2.08462170e+03, -2.58387750e+03,  1.74632750e+03, -2.44697750e+03,\n",
       "        1.69719920e+03, -9.11946330e+03, -2.04551345e+03,  9.89889205e+03,\n",
       "       -9.96951151e+02,  6.65086550e+03,  4.74169915e+00, -8.52106570e+03,\n",
       "       -1.64697270e+03,  6.89830360e+03, -1.03121410e+03, -2.13870815e+03,\n",
       "        2.79821290e+03, -8.27898010e+03,  3.38936440e+03, -5.16183540e+03,\n",
       "        1.47069679e+04, -1.03074037e+04, -1.36433550e+03,  5.29332830e+03,\n",
       "       -1.27922101e+02,  9.22374132e+03, -2.43992000e+03, -4.82771000e+03,\n",
       "        1.27241220e+03,  2.39170495e+03, -6.89908100e+03,  1.67646250e+03,\n",
       "        6.89028380e+03, -3.02797009e+01, -2.89562370e+03, -2.39574870e+03,\n",
       "       -1.14792830e+03, -4.78292701e+02,  2.51880360e+03, -6.51658060e+03,\n",
       "        6.21528299e+02, -1.03687608e+04, -3.01430820e+03,  5.73469230e+03,\n",
       "       -4.70490055e+03,  1.96355139e+04, -4.72384515e+03, -3.89781540e+03,\n",
       "       -2.83571600e+03, -7.76483251e+02,  2.53261491e+01, -1.65713470e+03,\n",
       "       -1.01850150e+03, -3.75828785e+03, -4.00650265e+03, -8.06976201e+02,\n",
       "        6.05469530e+03,  1.21546830e+03, -1.46851070e+03,  5.96993540e+03,\n",
       "        4.38065070e+03, -8.15787451e+02, -1.86314480e+03, -2.88889301e+02,\n",
       "       -1.16155917e+04,  1.40296620e+03,  8.30230699e+02, -3.40993975e+03,\n",
       "       -1.07698837e+04, -3.90425601e+02,  6.74138599e+02, -7.04932551e+02,\n",
       "       -2.56912235e+03, -2.95943325e+03, -9.41996545e+03,  1.95008910e+03,\n",
       "       -1.06582017e+04, -4.53498140e+03, -1.27610890e+03, -9.78923701e+02,\n",
       "        5.62154645e+03, -3.64068790e+03,  1.62632520e+03, -1.11736512e+04,\n",
       "       -9.34049701e+02, -1.47979850e+03, -1.27795235e+03, -3.85240470e+03,\n",
       "       -1.02697100e+03, -2.68199901e+02, -1.74224395e+03,  1.39562650e+03,\n",
       "       -6.87953201e+02,  3.86804299e+02, -4.15344380e+03, -8.69278540e+03,\n",
       "        6.56496680e+03,  1.90756620e+03, -2.79142945e+03, -1.84561470e+03,\n",
       "       -5.35592070e+03, -5.54609701e+02,  1.62033230e+03,  4.86818445e+03,\n",
       "        2.43064130e+03, -2.59472825e+03, -1.16882220e+03, -8.59916255e+03,\n",
       "        3.05272695e+03, -1.78467600e+03, -1.02418737e+04, -7.17110301e+02,\n",
       "       -2.01174310e+03,  7.33943030e+03, -1.76607425e+03, -1.88699701e+02,\n",
       "       -1.40824100e+03, -5.76886901e+02,  1.26153102e+04, -1.10187627e+04,\n",
       "       -2.16529875e+03,  6.86822749e+02, -3.86780215e+03, -9.27889751e+02,\n",
       "       -2.67207010e+03,  5.10085196e+03, -3.87796070e+03, -3.42038700e+03,\n",
       "        1.97326099e+02,  5.89355860e+03, -1.09681469e+04, -1.08184630e+03,\n",
       "        3.95075130e+03,  5.46558912e+03, -2.99186530e+03, -3.02009870e+03,\n",
       "        7.43042030e+03, -8.33283051e+02, -1.02644825e+03, -1.99831700e+03,\n",
       "       -4.38893970e+03, -2.09930655e+03, -6.72277701e+02, -1.65841470e+03,\n",
       "       -5.60807801e+02,  2.67587630e+03, -9.27329870e+03, -6.51690151e+02,\n",
       "        6.84179163e+03, -2.70833655e+03, -1.02684570e+03,  1.07118110e+03,\n",
       "        6.68743030e+03,  9.20959299e+02, -7.46253051e+02, -7.14266651e+02,\n",
       "        9.63028038e+03, -2.29910770e+03,  1.82181430e+03, -2.61508170e+03,\n",
       "       -1.30484501e+02, -3.40289250e+03, -1.08442703e+04, -2.73136925e+03,\n",
       "       -1.51363001e+02,  3.21570870e+03,  9.87633299e+02,  7.97186649e+02,\n",
       "        1.97844134e+04,  5.29373299e+02, -1.39951980e+03, -2.32608515e+03,\n",
       "       -3.90605170e+03,  7.68332614e+03, -1.37705970e+03, -6.00646070e+03,\n",
       "       -1.55921115e+03, -1.04952332e+04,  9.97275498e+03, -1.03001020e+04,\n",
       "       -1.65861700e+03, -2.38555610e+03])"
      ]
     },
     "execution_count": 32,
     "metadata": {},
     "output_type": "execute_result"
    }
   ],
   "source": [
    "residuals"
   ]
  },
  {
   "cell_type": "code",
   "execution_count": 33,
   "id": "b0252b20",
   "metadata": {},
   "outputs": [
    {
     "data": {
      "text/plain": [
       "<seaborn.axisgrid.FacetGrid at 0x253f645d3d0>"
      ]
     },
     "execution_count": 33,
     "metadata": {},
     "output_type": "execute_result"
    },
    {
     "data": {
      "image/png": "[encoded data removed]",
      "text/plain": [
       "<Figure size 360x360 with 1 Axes>"
      ]
     },
     "metadata": {
      "needs_background": "light"
     },
     "output_type": "display_data"
    }
   ],
   "source": [
    "#plotting the residuals\n",
    "sns.displot(residuals, kind='kde')"
   ]
  },
  {
   "cell_type": "code",
   "execution_count": 34,
   "id": "13ced83a",
   "metadata": {},
   "outputs": [
    {
     "data": {
      "text/plain": [
       "<matplotlib.collections.PathCollection at 0x253f68edf10>"
      ]
     },
     "execution_count": 34,
     "metadata": {},
     "output_type": "execute_result"
    },
    {
     "data": {
      "image/png": "[encoded data removed]",
      "text/plain": [
       "<Figure size 432x288 with 1 Axes>"
      ]
     },
     "metadata": {
      "needs_background": "light"
     },
     "output_type": "display_data"
    }
   ],
   "source": [
    "#scatter plot w.r.t prediction and residuals\n",
    "plt.scatter(predict,residuals)"
   ]
  },
  {
   "cell_type": "code",
   "execution_count": 35,
   "id": "885ab027",
   "metadata": {},
   "outputs": [
    {
     "name": "stdout",
     "output_type": "stream",
     "text": [
      "4215.868906118622\n",
      "36797764.86529978\n",
      "6066.116126921721\n"
     ]
    }
   ],
   "source": [
    "from sklearn.metrics import mean_squared_error\n",
    "from sklearn.metrics import mean_absolute_error\n",
    "\n",
    "print(mean_absolute_error(y_test,predict))\n",
    "print(mean_squared_error(y_test,predict))\n",
    "print(np.sqrt(mean_squared_error(y_test,predict)))"
   ]
  },
  {
   "cell_type": "code",
   "execution_count": 36,
   "id": "a02dbf02",
   "metadata": {},
   "outputs": [
    {
     "name": "stdout",
     "output_type": "stream",
     "text": [
      "0.7166304862097013\n"
     ]
    }
   ],
   "source": [
    "#R2 and adjusted R2\n",
    "from sklearn.metrics import r2_score\n",
    "score=r2_score(y_test,predict)\n",
    "print(score)"
   ]
  },
  {
   "cell_type": "code",
   "execution_count": 37,
   "id": "3d62f0d3",
   "metadata": {},
   "outputs": [
    {
     "data": {
      "text/plain": [
       "0.708638012743821"
      ]
     },
     "execution_count": 37,
     "metadata": {},
     "output_type": "execute_result"
    }
   ],
   "source": [
    "#adjusted R2 score\n",
    "1-(1-score)*(len(y_test)-1)/(len(y_test)-X_test.shape[-1]-1)"
   ]
  },
  {
   "cell_type": "code",
   "execution_count": 48,
   "id": "ac89ec59",
   "metadata": {},
   "outputs": [
    {
     "ename": "AttributeError",
     "evalue": "'DataFrame' object has no attribute 'reshape'",
     "output_type": "error",
     "traceback": [
      "\u001b[1;31m---------------------------------------------------------------------------\u001b[0m",
      "\u001b[1;31mAttributeError\u001b[0m                            Traceback (most recent call last)",
      "Input \u001b[1;32mIn [48]\u001b[0m, in \u001b[0;36m<cell line: 2>\u001b[1;34m()\u001b[0m\n\u001b[0;32m      1\u001b[0m \u001b[38;5;66;03m#making new prediction\u001b[39;00m\n\u001b[1;32m----> 2\u001b[0m \u001b[43mdataset\u001b[49m\u001b[38;5;241;43m.\u001b[39;49m\u001b[43mhead\u001b[49m\u001b[43m(\u001b[49m\u001b[38;5;241;43m1\u001b[39;49m\u001b[43m)\u001b[49m\u001b[38;5;241;43m.\u001b[39;49m\u001b[43mreshape\u001b[49m(\u001b[38;5;241m1\u001b[39m,\u001b[38;5;241m-\u001b[39m\u001b[38;5;241m1\u001b[39m)\n",
      "File \u001b[1;32m~\\anaconda3\\lib\\site-packages\\pandas\\core\\generic.py:5575\u001b[0m, in \u001b[0;36mNDFrame.__getattr__\u001b[1;34m(self, name)\u001b[0m\n\u001b[0;32m   5568\u001b[0m \u001b[38;5;28;01mif\u001b[39;00m (\n\u001b[0;32m   5569\u001b[0m     name \u001b[38;5;129;01mnot\u001b[39;00m \u001b[38;5;129;01min\u001b[39;00m \u001b[38;5;28mself\u001b[39m\u001b[38;5;241m.\u001b[39m_internal_names_set\n\u001b[0;32m   5570\u001b[0m     \u001b[38;5;129;01mand\u001b[39;00m name \u001b[38;5;129;01mnot\u001b[39;00m \u001b[38;5;129;01min\u001b[39;00m \u001b[38;5;28mself\u001b[39m\u001b[38;5;241m.\u001b[39m_metadata\n\u001b[0;32m   5571\u001b[0m     \u001b[38;5;129;01mand\u001b[39;00m name \u001b[38;5;129;01mnot\u001b[39;00m \u001b[38;5;129;01min\u001b[39;00m \u001b[38;5;28mself\u001b[39m\u001b[38;5;241m.\u001b[39m_accessors\n\u001b[0;32m   5572\u001b[0m     \u001b[38;5;129;01mand\u001b[39;00m \u001b[38;5;28mself\u001b[39m\u001b[38;5;241m.\u001b[39m_info_axis\u001b[38;5;241m.\u001b[39m_can_hold_identifiers_and_holds_name(name)\n\u001b[0;32m   5573\u001b[0m ):\n\u001b[0;32m   5574\u001b[0m     \u001b[38;5;28;01mreturn\u001b[39;00m \u001b[38;5;28mself\u001b[39m[name]\n\u001b[1;32m-> 5575\u001b[0m \u001b[38;5;28;01mreturn\u001b[39;00m \u001b[38;5;28;43mobject\u001b[39;49m\u001b[38;5;241;43m.\u001b[39;49m\u001b[38;5;21;43m__getattribute__\u001b[39;49m\u001b[43m(\u001b[49m\u001b[38;5;28;43mself\u001b[39;49m\u001b[43m,\u001b[49m\u001b[43m \u001b[49m\u001b[43mname\u001b[49m\u001b[43m)\u001b[49m\n",
      "\u001b[1;31mAttributeError\u001b[0m: 'DataFrame' object has no attribute 'reshape'"
     ]
    }
   ],
   "source": [
    "#making new prediction\n",
    "dataset.head(1).reshape(1,-1)"
   ]
  },
  {
   "cell_type": "code",
   "execution_count": 49,
   "id": "c9f84dd3",
   "metadata": {},
   "outputs": [],
   "source": [
    "#Pickling the file for deployment\n",
    "import pickle"
   ]
  },
  {
   "cell_type": "code",
   "execution_count": 50,
   "id": "ced2038b",
   "metadata": {},
   "outputs": [
    {
     "ename": "FileNotFoundError",
     "evalue": "[Errno 2] No such file or directory: 'regmodel.pkl'",
     "output_type": "error",
     "traceback": [
      "\u001b[1;31m---------------------------------------------------------------------------\u001b[0m",
      "\u001b[1;31mFileNotFoundError\u001b[0m                         Traceback (most recent call last)",
      "Input \u001b[1;32mIn [50]\u001b[0m, in \u001b[0;36m<cell line: 1>\u001b[1;34m()\u001b[0m\n\u001b[1;32m----> 1\u001b[0m pickle\u001b[38;5;241m.\u001b[39mdump(model,\u001b[38;5;28;43mopen\u001b[39;49m\u001b[43m(\u001b[49m\u001b[38;5;124;43m'\u001b[39;49m\u001b[38;5;124;43mregmodel.pkl\u001b[39;49m\u001b[38;5;124;43m'\u001b[39;49m\u001b[43m)\u001b[49m,\u001b[38;5;124m'\u001b[39m\u001b[38;5;124mwb\u001b[39m\u001b[38;5;124m'\u001b[39m)\n",
      "\u001b[1;31mFileNotFoundError\u001b[0m: [Errno 2] No such file or directory: 'regmodel.pkl'"
     ]
    }
   ],
   "source": [
    "pickle.dump(model,open('regmodel.pkl'),'wb')"
   ]
  },
  {
   "cell_type": "code",
   "execution_count": null,
   "id": "e90fc154",
   "metadata": {},
   "outputs": [],
   "source": []
  }
 ],
 "metadata": {
  "kernelspec": {
   "display_name": "Python 3 (ipykernel)",
   "language": "python",
   "name": "python3"
  },
  "language_info": {
   "codemirror_mode": {
    "name": "ipython",
    "version": 3
   },
   "file_extension": ".py",
   "mimetype": "text/x-python",
   "name": "python",
   "nbconvert_exporter": "python",
   "pygments_lexer": "ipython3",
   "version": "3.9.12"
  }
 },
 "nbformat": 4,
 "nbformat_minor": 5
}
